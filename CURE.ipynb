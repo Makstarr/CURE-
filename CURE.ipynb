{
  "nbformat": 4,
  "nbformat_minor": 0,
  "metadata": {
    "colab": {
      "name": "HOMEWORK 3",
      "provenance": [],
      "collapsed_sections": [],
      "authorship_tag": "ABX9TyOpIYKs6Q/aRuICbTqIL4EL",
      "include_colab_link": true
    },
    "kernelspec": {
      "name": "python3",
      "display_name": "Python 3"
    }
  },
  "cells": [
    {
      "cell_type": "markdown",
      "metadata": {
        "id": "view-in-github",
        "colab_type": "text"
      },
      "source": [
        "<a href=\"https://colab.research.google.com/github/Makstarr/CURE-algorithm/blob/main/CURE.ipynb\" target=\"_parent\"><img src=\"https://colab.research.google.com/assets/colab-badge.svg\" alt=\"Open In Colab\"/></a>"
      ]
    },
    {
      "cell_type": "markdown",
      "metadata": {
        "id": "-o79gDhTt8HT"
      },
      "source": [
        ""
      ]
    },
    
    {
      "cell_type": "markdown",
      "metadata": {
        "id": "vve6dN5d3Eoy"
      },
      "source": [
        "# СОЗДАНИЕ АЛГОРИТМА"
      ]
    },
    {
      "cell_type": "markdown",
      "metadata": {
        "id": "HX_6yT4R3Kw5"
      },
      "source": [
        "## Импорт библиотек"
      ]
    },
    {
      "cell_type": "code",
      "metadata": {
        "id": "IBO3-a_jP7Cv"
      },
      "source": [
        "import pandas as pd\n",
        "import itertools \n",
        "import numpy as np\n",
        "import sys\n",
        "import matplotlib.pyplot as plt\n",
        "import seaborn as sns\n",
        "from sklearn.cluster import AgglomerativeClustering \n",
        "from sklearn.preprocessing import StandardScaler, normalize\n",
        "from sklearn.decomposition import PCA\n",
        "from sklearn.metrics import silhouette_score\n",
        "import scipy.cluster.hierarchy as shc\n",
        "from plotly.offline import download_plotlyjs, init_notebook_mode, plot, iplot"
      ],
      "execution_count": 2,
      "outputs": []
    },
    {
      "cell_type": "markdown",
      "metadata": {
        "id": "jAm_pkoz3N9v"
      },
      "source": [
        "## Функция чтения csv файлов, возвращает данные в формате массива и Pandas dataframe"
      ]
    },
    {
      "cell_type": "code",
      "metadata": {
        "id": "i1UlXn-cZMDX"
      },
      "source": [
        "def readDataset(data_file):\n",
        "  data_frame = pd.read_csv(data_file, usecols = [0,2,5,6,7,8,9,10,11])\n",
        "  data_frame.fillna(method ='ffill', inplace = True) \n",
        "  data_frame.head(2)\n",
        "  data_array = data_frame[['Happiness.Score','Economy..GDP.per.Capita.','Family','Health..Life.Expectancy.', 'Freedom', \n",
        "          'Generosity','Trust..Government.Corruption.','Dystopia.Residual']] \n",
        "  data_array = data_array.to_numpy()\n",
        "  #data_array = data_frame.to_numpy()\n",
        "  return data_frame, data_array"
      ],
      "execution_count": 3,
      "outputs": []
    },
    {
      "cell_type": "markdown",
      "metadata": {
        "id": "4CDRBSMg3cDj"
      },
      "source": [
        "## Класс кластер с методами расчета кластеров \"изнутри\" и свойствами каждого кластера"
      ]
    },
    {
      "cell_type": "code",
      "metadata": {
        "id": "VjSvfmWoaUj_"
      },
      "source": [
        "class Cluster(object):\n",
        "    COUNTER = 0\n",
        "    def __init__(self, points, p_ids, rep_count, alpha):\n",
        "        Cluster.COUNTER += 1\n",
        "        self.id = Cluster.COUNTER\n",
        "        self.points = np.array(points) if type(points) == type([]) else points\n",
        "        self.n_points, self.dimensions = self.points.shape\n",
        "        self.p_ids = p_ids\n",
        "        self.mean = None\n",
        "        self.alpha = alpha\n",
        "        self.rep_count = rep_count\n",
        "        self.reps = self.assignReps()\n",
        "        self.closest = None\n",
        "        self.closestDist = sys.maxsize\n",
        "\n",
        "    def getMean(self):\n",
        "        if self.mean is not None:\n",
        "            return self.mean\n",
        "        self.mean = self.points.sum(axis=0)/(self.n_points*1.0)\n",
        "        return self.mean\n",
        "    \n",
        "    def assignReps(self):\n",
        "        if self.n_points <= self.rep_count:\n",
        "            return self.points[:,:]\n",
        "        tmp_set = set()\n",
        "        reps = []\n",
        "        for i in range(self.rep_count):\n",
        "            max_dist = 0\n",
        "            for j in range(self.n_points):\n",
        "                if i == 0:\n",
        "                    min_dist = Cluster.p_distance(self.points[j], self.getMean())\n",
        "                else:\n",
        "                    min_dist = self.getClosestDist(self.points[j], reps)\n",
        "                if min_dist >= max_dist:\n",
        "                    max_dist = min_dist\n",
        "                    max_point = j\n",
        "            if max_point not in tmp_set:\n",
        "                tmp_set.add(max_point)\n",
        "                if reps is not None:\n",
        "                    point = self.points[max_point]\n",
        "                    reps.append(point + self.alpha * (self.getMean() - point))\n",
        "                else:\n",
        "                    point = self.points[max_point]\n",
        "                    reps = [point + self.alpha * (self.getMean() - point)]\n",
        "        reps = np.array(reps)\n",
        "        return reps\n",
        "            \n",
        "                    \n",
        "    def getClosestDist(self, point, points):\n",
        "        points = np.array(points)\n",
        "        return min(np.sqrt(np.sum((points - point)**2, axis=1)))\n",
        "    \n",
        "    def __str__(self):\n",
        "        return \"[ID:%d] PointCount=%d, ClosestDist=%0.2f with [ID:%d]\"%(self.id, self.n_points, self.closestDist, self.closest.id if self.closest else -1)\n",
        "    \n",
        "    def __repr(self):\n",
        "        return self.__str__()\n",
        "    \n",
        "\n",
        "\n",
        "    @classmethod\n",
        "    def merge(cls, cluster1, cluster2):\n",
        "        if cluster1.dimensions != cluster2.dimensions:\n",
        "            raise ValueError('Error! The dimensions of the data-points does not match.')\n",
        "        \n",
        "        combined_points = np.concatenate((cluster1.points, cluster2.points))\n",
        "        combined_p_ids = cluster1.p_ids + cluster2.p_ids\n",
        "        new_cluster = Cluster(combined_points, combined_p_ids, cluster1.rep_count, cluster1.alpha)\n",
        "        \n",
        "        new_cluster.mean = (cluster1.getMean()*cluster1.n_points + cluster2.getMean()*cluster2.n_points)/(new_cluster.n_points*1.0)\n",
        "\n",
        "        return new_cluster\n",
        "    \n",
        "    def pointToClusterDistance(self, point):\n",
        "        min_dist = sys.maxsize\n",
        "        for rep_index in range(len(self.reps)):\n",
        "            dist = Cluster.p_distance(self.reps[rep_index], point)\n",
        "            min_dist = min(min_dist, dist)\n",
        "        return min_dist\n",
        "    \n",
        "    @staticmethod\n",
        "    def p_distance(point1, point2):\n",
        "        return np.sqrt(np.sum((point1 - point2)**2))\n",
        "\n",
        "    @staticmethod\n",
        "    def c_distance(cluster1, cluster2):\n",
        "        min_dist = sys.maxsize\n",
        "        for rep_1_index in range(len(cluster1.reps)):\n",
        "            for rep_2_index in range(len(cluster2.reps)):\n",
        "                dist = Cluster.p_distance(cluster1.reps[rep_1_index], cluster2.reps[rep_2_index])\n",
        "                min_dist = min(min_dist, dist)\n",
        "        return min_dist"
      ],
      "execution_count": 4,
      "outputs": []
    },
    {
      "cell_type": "markdown",
      "metadata": {
        "id": "s8cgSb_R3iiz"
      },
      "source": [
        "## Класс иерархической кластеризации с методами расчета кластеров \"снаружи\"\n"
      ]
    },
    {
      "cell_type": "code",
      "metadata": {
        "id": "SUFuCcYMcE-a"
      },
      "source": [
        "class HeirarchicalClustering(object):\n",
        "    def __init__(self, cluster_count, rep_count, alpha):\n",
        "        self.cluster_count = cluster_count\n",
        "        self.clusters = []\n",
        "        self.rep_count = rep_count\n",
        "        self.alpha = alpha\n",
        "\n",
        "    def fit(self, points):\n",
        "        for p_index, point in enumerate(points):\n",
        "            self.clusters.append(Cluster([point], [p_index], self.rep_count, self.alpha))\n",
        "        \n",
        "        for index in range(len(self.clusters)):\n",
        "            self.assignClosestCluster(self.clusters[index])\n",
        "            \n",
        "        while len(self.clusters) > self.cluster_count:\n",
        "            u_index = self.getMergeCandidate()\n",
        "            u_cluster = self.clusters.pop(u_index)\n",
        "            v_cluster = u_cluster.closest\n",
        "            \n",
        "            self.removeCluster(v_cluster)\n",
        "            \n",
        "            new_cluster = Cluster.merge(u_cluster, v_cluster)\n",
        "            \n",
        "            self.rebuildClosestClusterLinks(new_cluster, u_cluster.id, v_cluster.id)\n",
        "            \n",
        "            self.clusters.append(new_cluster)\n",
        "    \n",
        "    def predict(self, points):\n",
        "        points = np.array(points)\n",
        "        predictions = {cluster.id:[] for cluster in self.clusters}\n",
        "        for i in range(len(points)):\n",
        "            label = self.predict_point(points[i])\n",
        "            predictions[label].append(i)\n",
        "        return predictions.values()\n",
        "\n",
        "    def predict_point(self, point):\n",
        "        point = np.array(point)\n",
        "        min_dist = sys.maxsize\n",
        "        label = None\n",
        "        for i in range(len(self.clusters)):\n",
        "            dist = self.clusters[i].pointToClusterDistance(point)\n",
        "            if dist < min_dist:\n",
        "                min_dist = dist\n",
        "                label = self.clusters[i].id\n",
        "        return label\n",
        "    \n",
        "    def getMergeCandidate(self):\n",
        "        min_dist = sys.maxsize\n",
        "        cluster_index = 0\n",
        "        for i in range(len(self.clusters)):\n",
        "            dist = self.clusters[i].closestDist\n",
        "            if dist < min_dist:\n",
        "                min_dist = dist\n",
        "                cluster_index = i\n",
        "        return cluster_index\n",
        "            \n",
        "    def assignClosestCluster(self, cluster):\n",
        "        min_dist = sys.maxsize\n",
        "        closest = None\n",
        "        for i in range(len(self.clusters)):\n",
        "            if cluster.id == self.clusters[i].id: continue\n",
        "            \n",
        "            dist = Cluster.c_distance(cluster, self.clusters[i])\n",
        "            if dist < min_dist:\n",
        "                min_dist = dist\n",
        "                closest = self.clusters[i]\n",
        "        cluster.closest = closest\n",
        "        cluster.closestDist = min_dist\n",
        "\n",
        "    def rebuildClosestClusterLinks(self, new_cluster, cid_1, cid_2):\n",
        "        min_dist = sys.maxsize\n",
        "        for i in range(len(self.clusters)):\n",
        "            new_dist = Cluster.c_distance(new_cluster, self.clusters[i])\n",
        "            if new_cluster.closestDist > new_dist:\n",
        "                new_cluster.closestDist = new_dist\n",
        "                new_cluster.closest = self.clusters[i]\n",
        "\n",
        "            if self.clusters[i].closest.id in (cid_1, cid_2):\n",
        "                if self.clusters[i].closestDist < new_dist:\n",
        "                    self.assignClosestCluster(self.clusters[i])\n",
        "                else:\n",
        "                    self.clusters[i].closestDist = new_dist\n",
        "                    self.clusters[i].closest = new_cluster\n",
        "            else:\n",
        "                if self.clusters[i].closestDist > new_dist:\n",
        "                    self.clusters[i].closestDist = new_dist\n",
        "                    self.clusters[i].closest = new_cluster\n",
        "    \n",
        "    def removeCluster(self, cluster):\n",
        "        for i in range(len(self.clusters)):\n",
        "            if self.clusters[i].id == cluster.id:\n",
        "                self.clusters[i] = self.clusters[-1]\n",
        "                self.clusters.pop()\n",
        "                return \"Cluster not found\"\n",
        "        "
      ],
      "execution_count": 5,
      "outputs": []
    },
    {
      "cell_type": "markdown",
      "metadata": {
        "id": "CCkgNdp730Na"
      },
      "source": [
        "## Функция сравнения результатов вычисления с любым другим методом кластеризации или (при наличии) верными кластерами"
      ]
    },
    {
      "cell_type": "code",
      "metadata": {
        "id": "ndZzv0jvwKZq"
      },
      "source": [
        "def calculateMetrics(pred_clusters, true_labels_arr):\n",
        "    true_labels = {}\n",
        "    for index, true_label in enumerate(true_labels_arr):\n",
        "        if true_label in true_labels:\n",
        "            true_labels[true_label].append(index)\n",
        "        else:\n",
        "            true_labels[true_label] = [index]\n",
        "    true_labels = true_labels.values()\n",
        "    true_label_pairs = []\n",
        "    for true_cluster in true_labels:\n",
        "        true_cluster.sort()\n",
        "        true_label_pairs += itertools.combinations(true_cluster, 2)\n",
        "    \n",
        "    pred_label_pairs = []\n",
        "    for index, pred_cluster in enumerate(pred_clusters):\n",
        "        pred_cluster.sort()\n",
        "       #print 'Cluster %d: %s\\n'%(index+1, str(pred_cluster))\n",
        "        pred_label_pairs += itertools.combinations(pred_cluster, 2)\n",
        "    true_label_pairs = set(true_label_pairs)\n",
        "    pred_label_pairs = set(pred_label_pairs)\n",
        "    \n",
        "    precision = len(pred_label_pairs.intersection(true_label_pairs))/(1.0*len(pred_label_pairs))\n",
        "    recall = len(pred_label_pairs.intersection(true_label_pairs))/(1.0*len(true_label_pairs))\n",
        "    f1 = 2*precision*recall/(precision+recall)\n",
        "    return [(\"Precision: %0.2f, Recall: %0.2f\"%(precision, recall)),  (\"F1 score: %0.2f\"%(f1))]"
      ],
      "execution_count": 6,
      "outputs": []
    },
    {
      "cell_type": "markdown",
      "metadata": {
        "id": "qBuBC9_q4Gdk"
      },
      "source": [
        "## Функция подбора альфа и числа итераций"
      ]
    },
    {
      "cell_type": "code",
      "metadata": {
        "id": "xJB305yAcVlv"
      },
      "source": [
        "def gridSearch(data, sample):    \n",
        "  rep_counts = list(range(1, 6))    \n",
        "  alphas = np.arange(0.1, 1, 0.1) \n",
        "  prints=[] \n",
        "  fits=[]\n",
        "  answers = []\n",
        "  for rep_count in rep_counts:        \n",
        "    for alpha in alphas:            \n",
        "      hc = HeirarchicalClustering(cluster_count, rep_count, alpha)            \n",
        "      hc.fit(sample)            \n",
        "      predictions = hc.predict(data)            \n",
        "      prints.append('RepCount: %d, Alpha: %f'%(rep_count, alpha))         \n",
        "      fits.append(calculateMetrics(predictions, AgglomerativeClustering(n_clusters=2).fit_predict(data)))\n",
        "      answers.append([prints, fits])\n",
        "  return answers\n"
      ],
      "execution_count": 7,
      "outputs": []
    },
    {
      "cell_type": "markdown",
      "metadata": {
        "id": "78S9e8iO2-x8"
      },
      "source": [
        "# РАСЧЕТНАЯ ЧАСТЬ"
      ]
    },
    {
      "cell_type": "markdown",
      "metadata": {
        "id": "_tV1ZzAd1_2b"
      },
      "source": [
        "## Читаем датасет и считаем параметры для алгоритма"
      ]
    },
    {
      "cell_type": "code",
      "metadata": {
        "id": "sAOkGT4T2XxF",
        "outputId": "84fcdaa8-40b1-4e73-9dc1-7cdbd4311a21",
        "colab": {
          "base_uri": "https://localhost:8080/",
          "height": 473
        }
      },
      "source": [
        "sample_file = '2017 copy.csv'\n",
        "data_file = '2017.csv'\n",
        "\n",
        "data = readDataset(data_file)[1]\n",
        "sample = readDataset(data_file)[1]\n",
        "\n",
        "data_set_full=readDataset(data_file)[0]\n",
        "\n",
        "data_set_full"
      ],
      "execution_count": 21,
      "outputs": [
        {
          "output_type": "execute_result",
          "data": {
            "text/html": [
              "<div>\n",
              "<style scoped>\n",
              "    .dataframe tbody tr th:only-of-type {\n",
              "        vertical-align: middle;\n",
              "    }\n",
              "\n",
              "    .dataframe tbody tr th {\n",
              "        vertical-align: top;\n",
              "    }\n",
              "\n",
              "    .dataframe thead th {\n",
              "        text-align: right;\n",
              "    }\n",
              "</style>\n",
              "<table border=\"1\" class=\"dataframe\">\n",
              "  <thead>\n",
              "    <tr style=\"text-align: right;\">\n",
              "      <th></th>\n",
              "      <th>Country</th>\n",
              "      <th>Happiness.Score</th>\n",
              "      <th>Economy..GDP.per.Capita.</th>\n",
              "      <th>Family</th>\n",
              "      <th>Health..Life.Expectancy.</th>\n",
              "      <th>Freedom</th>\n",
              "      <th>Generosity</th>\n",
              "      <th>Trust..Government.Corruption.</th>\n",
              "      <th>Dystopia.Residual</th>\n",
              "    </tr>\n",
              "  </thead>\n",
              "  <tbody>\n",
              "    <tr>\n",
              "      <th>0</th>\n",
              "      <td>Norway</td>\n",
              "      <td>7.537</td>\n",
              "      <td>1.616463</td>\n",
              "      <td>1.533524</td>\n",
              "      <td>0.796667</td>\n",
              "      <td>0.635423</td>\n",
              "      <td>0.362012</td>\n",
              "      <td>0.315964</td>\n",
              "      <td>2.277027</td>\n",
              "    </tr>\n",
              "    <tr>\n",
              "      <th>1</th>\n",
              "      <td>Denmark</td>\n",
              "      <td>7.522</td>\n",
              "      <td>1.482383</td>\n",
              "      <td>1.551122</td>\n",
              "      <td>0.792566</td>\n",
              "      <td>0.626007</td>\n",
              "      <td>0.355280</td>\n",
              "      <td>0.400770</td>\n",
              "      <td>2.313707</td>\n",
              "    </tr>\n",
              "    <tr>\n",
              "      <th>2</th>\n",
              "      <td>Iceland</td>\n",
              "      <td>7.504</td>\n",
              "      <td>1.480633</td>\n",
              "      <td>1.610574</td>\n",
              "      <td>0.833552</td>\n",
              "      <td>0.627163</td>\n",
              "      <td>0.475540</td>\n",
              "      <td>0.153527</td>\n",
              "      <td>2.322715</td>\n",
              "    </tr>\n",
              "    <tr>\n",
              "      <th>3</th>\n",
              "      <td>Switzerland</td>\n",
              "      <td>7.494</td>\n",
              "      <td>1.564980</td>\n",
              "      <td>1.516912</td>\n",
              "      <td>0.858131</td>\n",
              "      <td>0.620071</td>\n",
              "      <td>0.290549</td>\n",
              "      <td>0.367007</td>\n",
              "      <td>2.276716</td>\n",
              "    </tr>\n",
              "    <tr>\n",
              "      <th>4</th>\n",
              "      <td>Finland</td>\n",
              "      <td>7.469</td>\n",
              "      <td>1.443572</td>\n",
              "      <td>1.540247</td>\n",
              "      <td>0.809158</td>\n",
              "      <td>0.617951</td>\n",
              "      <td>0.245483</td>\n",
              "      <td>0.382612</td>\n",
              "      <td>2.430182</td>\n",
              "    </tr>\n",
              "    <tr>\n",
              "      <th>...</th>\n",
              "      <td>...</td>\n",
              "      <td>...</td>\n",
              "      <td>...</td>\n",
              "      <td>...</td>\n",
              "      <td>...</td>\n",
              "      <td>...</td>\n",
              "      <td>...</td>\n",
              "      <td>...</td>\n",
              "      <td>...</td>\n",
              "    </tr>\n",
              "    <tr>\n",
              "      <th>150</th>\n",
              "      <td>Rwanda</td>\n",
              "      <td>3.471</td>\n",
              "      <td>0.368746</td>\n",
              "      <td>0.945707</td>\n",
              "      <td>0.326425</td>\n",
              "      <td>0.581844</td>\n",
              "      <td>0.252756</td>\n",
              "      <td>0.455220</td>\n",
              "      <td>0.540061</td>\n",
              "    </tr>\n",
              "    <tr>\n",
              "      <th>151</th>\n",
              "      <td>Syria</td>\n",
              "      <td>3.462</td>\n",
              "      <td>0.777153</td>\n",
              "      <td>0.396103</td>\n",
              "      <td>0.500533</td>\n",
              "      <td>0.081539</td>\n",
              "      <td>0.493664</td>\n",
              "      <td>0.151347</td>\n",
              "      <td>1.061574</td>\n",
              "    </tr>\n",
              "    <tr>\n",
              "      <th>152</th>\n",
              "      <td>Tanzania</td>\n",
              "      <td>3.349</td>\n",
              "      <td>0.511136</td>\n",
              "      <td>1.041990</td>\n",
              "      <td>0.364509</td>\n",
              "      <td>0.390018</td>\n",
              "      <td>0.354256</td>\n",
              "      <td>0.066035</td>\n",
              "      <td>0.621130</td>\n",
              "    </tr>\n",
              "    <tr>\n",
              "      <th>153</th>\n",
              "      <td>Burundi</td>\n",
              "      <td>2.905</td>\n",
              "      <td>0.091623</td>\n",
              "      <td>0.629794</td>\n",
              "      <td>0.151611</td>\n",
              "      <td>0.059901</td>\n",
              "      <td>0.204435</td>\n",
              "      <td>0.084148</td>\n",
              "      <td>1.683024</td>\n",
              "    </tr>\n",
              "    <tr>\n",
              "      <th>154</th>\n",
              "      <td>Central African Republic</td>\n",
              "      <td>2.693</td>\n",
              "      <td>0.000000</td>\n",
              "      <td>0.000000</td>\n",
              "      <td>0.018773</td>\n",
              "      <td>0.270842</td>\n",
              "      <td>0.280876</td>\n",
              "      <td>0.056565</td>\n",
              "      <td>2.066005</td>\n",
              "    </tr>\n",
              "  </tbody>\n",
              "</table>\n",
              "<p>155 rows × 9 columns</p>\n",
              "</div>"
            ],
            "text/plain": [
              "                      Country  ...  Dystopia.Residual\n",
              "0                      Norway  ...           2.277027\n",
              "1                     Denmark  ...           2.313707\n",
              "2                     Iceland  ...           2.322715\n",
              "3                 Switzerland  ...           2.276716\n",
              "4                     Finland  ...           2.430182\n",
              "..                        ...  ...                ...\n",
              "150                    Rwanda  ...           0.540061\n",
              "151                     Syria  ...           1.061574\n",
              "152                  Tanzania  ...           0.621130\n",
              "153                   Burundi  ...           1.683024\n",
              "154  Central African Republic  ...           2.066005\n",
              "\n",
              "[155 rows x 9 columns]"
            ]
          },
          "metadata": {
            "tags": []
          },
          "execution_count": 21
        }
      ]
    },
    {
      "cell_type": "markdown",
      "metadata": {
        "id": "RM_LdMa12PdE"
      },
      "source": [
        "### Расчет числа кластеров Silhouette Score (Индекс оценки силуэта)"
      ]
    },
    {
      "cell_type": "code",
      "metadata": {
        "id": "TPowQXAu2l6M",
        "outputId": "6b2b1d3f-c99e-4916-c08c-4502c857c20b",
        "colab": {
          "base_uri": "https://localhost:8080/",
          "height": 279
        }
      },
      "source": [
        "silhouette_scores = [] \n",
        "for n_cluster in range(2, 8):\n",
        "    silhouette_scores.append( \n",
        "        silhouette_score(data, AgglomerativeClustering(n_clusters = n_cluster).fit_predict(data))) \n",
        "\n",
        "k = [2, 3, 4, 5, 6, 7] \n",
        "plt.bar(k, silhouette_scores) \n",
        "plt.xlabel('Число кластеров', fontsize = 10) \n",
        "plt.ylabel('Silhouette Score', fontsize = 10) \n",
        "plt.show()"
      ],
      "execution_count": 9,
      "outputs": [
        {
          "output_type": "display_data",
          "data": {
            "image/png": "[encoded data removed]",
            "text/plain": [
              "<Figure size 432x288 with 1 Axes>"
            ]
          },
          "metadata": {
            "tags": [],
            "needs_background": "light"
          }
        }
      ]
    },
    {
      "cell_type": "code",
      "metadata": {
        "id": "FNyxUScL5nLp"
      },
      "source": [
        "cluster_count = 2"
      ],
      "execution_count": 10,
      "outputs": []
    },
    {
      "cell_type": "markdown",
      "metadata": {
        "id": "mHt31pPh2Imd"
      },
      "source": [
        "### Расчет комбинации альфа и числа итераций"
      ]
    },
    {
      "cell_type": "code",
      "metadata": {
        "id": "VKoHRmUX2Who"
      },
      "source": [
        "#combination = gridSearch(data, sample)"
      ],
      "execution_count": 11,
      "outputs": []
    },
    {
      "cell_type": "markdown",
      "metadata": {
        "id": "6g4Zo89O0l8H"
      },
      "source": [
        "## Выбираем параметры из рассчитанных вариантов"
      ]
    },
    {
      "cell_type": "code",
      "metadata": {
        "id": "RaHZWZjLvDfH"
      },
      "source": [
        "rep_count = 3\n",
        "alpha = 0.8"
      ],
      "execution_count": 12,
      "outputs": []
    },
    {
      "cell_type": "markdown",
      "metadata": {
        "id": "5cp5nvfnvDLD"
      },
      "source": [
        "## Считаем кластеры и смотрим их размеры"
      ]
    },
    {
      "cell_type": "code",
      "metadata": {
        "id": "i6Be5AK9dDz7"
      },
      "source": [
        "hc = HeirarchicalClustering(cluster_count, rep_count, alpha)\n",
        "hc.fit(sample)\n",
        "predictions = hc.predict(data)"
      ],
      "execution_count": 13,
      "outputs": []
    },
    {
      "cell_type": "code",
      "metadata": {
        "id": "UIxW4ZJDgrQg",
        "outputId": "ef0d20cf-b552-4c6e-88b0-bf7ce2463e61",
        "colab": {
          "base_uri": "https://localhost:8080/"
        }
      },
      "source": [
        "len(list(predictions)[1])"
      ],
      "execution_count": 14,
      "outputs": [
        {
          "output_type": "execute_result",
          "data": {
            "text/plain": [
              "92"
            ]
          },
          "metadata": {
            "tags": []
          },
          "execution_count": 14
        }
      ]
    },
    {
      "cell_type": "code",
      "metadata": {
        "id": "oIjLgvpldEkS",
        "outputId": "eb20e52c-443d-4e7b-e101-076a8f08fdb5",
        "colab": {
          "base_uri": "https://localhost:8080/"
        }
      },
      "source": [
        "len(list(predictions)[0])"
      ],
      "execution_count": 15,
      "outputs": [
        {
          "output_type": "execute_result",
          "data": {
            "text/plain": [
              "63"
            ]
          },
          "metadata": {
            "tags": []
          },
          "execution_count": 15
        }
      ]
    },
    {
      "cell_type": "markdown",
      "metadata": {
        "id": "FRq7MFy106MA"
      },
      "source": [
        "## Создаем маркировки для кластеров"
      ]
    },
    {
      "cell_type": "code",
      "metadata": {
        "id": "R4l2DZDVkszk"
      },
      "source": [
        "# Масисив числовой\n",
        "colors_index = []\n",
        "for i in range(len(data)):\n",
        "  if (i in list(predictions)[1]):\n",
        "    colors_index.append(1)\n",
        "  elif (i in list(predictions)[0]):\n",
        "    colors_index.append(0)\n",
        "# Масисив цветов\n",
        "colors = []\n",
        "for i in colors_index:\n",
        "  if (i==1):\n",
        "      colors.append(\"#e98155\")\n",
        "  elif (i==0):\n",
        "      colors.append(\"#9ee771\")\n",
        "  elif (i==2):\n",
        "    colors.append(\"#f00\")\n",
        "  else:\n",
        "    colors.append(\"#000\")"
      ],
      "execution_count": 16,
      "outputs": []
    },
    {
      "cell_type": "markdown",
      "metadata": {
        "id": "IwRoOemr1UHq"
      },
      "source": [
        "## Рисуем график кластеров в 2D для выбранных факторов"
      ]
    },
    {
      "cell_type": "code",
      "metadata": {
        "id": "bJ1HtXsZmBQa",
        "outputId": "bdecf24d-3a41-4b49-9a1a-4f821b34db54",
        "colab": {
          "base_uri": "https://localhost:8080/",
          "height": 265
        }
      },
      "source": [
        "plt.scatter(data[:,1], data[:,6],  color = colors) \n",
        "plt.show()"
      ],
      "execution_count": 17,
      "outputs": [
        {
          "output_type": "display_data",
          "data": {
            "image/png": "[encoded data removed]",
            "text/plain": [
              "<Figure size 432x288 with 1 Axes>"
            ]
          },
          "metadata": {
            "tags": [],
            "needs_background": "light"
          }
        }
      ]
    },
    {
      "cell_type": "markdown",
      "metadata": {
        "id": "Cv_kor_L1ep3"
      },
      "source": [
        "## Наносим кластеры на карту мира (при наведении мыши на карту, показывается название страны)"
      ]
    },
    {
      "cell_type": "code",
      "metadata": {
        "id": "0W7WYmuUmKmi",
        "outputId": "b2a589c5-2819-497d-e77d-7c2730be6753",
        "colab": {
          "base_uri": "https://localhost:8080/",
          "height": 542
        }
      },
      "source": [
        "mydata = [dict(type='choropleth',\n",
        "             locations = \n",
        "data_set_full['Country'],\n",
        "             locationmode = 'country names',\n",
        "             z = colors_index,\n",
        "             text = data_set_full['Country'],\n",
        "             colorscale = [(0,\"#9ee771\"), (1,\"#e98155\")],\n",
        "             colorbar = {'title':'Кластеры'})]\n",
        "layout = dict(title='Групировка стран по кластерам',\n",
        "              geo=dict(showframe = False, projection = {'type':'kavrayskiy7'})) #type = ['equirectangular', 'mercator', 'orthographic', 'natural earth', 'kavrayskiy7', 'miller', 'robinson', 'eckert4', 'azimuthal equal area', 'azimuthal equidistant', 'conic equal area', 'conic conformal', 'conic equidistant', 'gnomonic', 'stereographic', 'mollweide', 'hammer', 'transverse mercator', 'albers usa', 'winkel tripel', 'aitoff', 'sinusoidal']\n",
        "map4 = dict(data=mydata, layout=layout)\n",
        "iplot(map4)"
      ],
      "execution_count": 33,
      "outputs": [
        {
          "output_type": "display_data",
          "data": {
            "text/html": [
              "<html>\n",
              "<head><meta charset=\"utf-8\" /></head>\n",
              "<body>\n",
              "    <div>\n",
              "            <script src=\"https://cdnjs.cloudflare.com/ajax/libs/mathjax/2.7.5/MathJax.js?config=TeX-AMS-MML_SVG\"></script><script type=\"text/javascript\">if (window.MathJax) {MathJax.Hub.Config({SVG: {font: \"STIX-Web\"}});}</script>\n",
              "                <script type=\"text/javascript\">window.PlotlyConfig = {MathJaxConfig: 'local'};</script>\n",
              "        <script src=\"https://cdn.plot.ly/plotly-latest.min.js\"></script>    \n",
              "            <div id=\"213e1054-b011-48c1-b7f4-2f061f74a733\" class=\"plotly-graph-div\" style=\"height:525px; width:100%;\"></div>\n",
              "            <script type=\"text/javascript\">\n",
              "                \n",
              "                    window.PLOTLYENV=window.PLOTLYENV || {};\n",
              "                    \n",
              "                if (document.getElementById(\"213e1054-b011-48c1-b7f4-2f061f74a733\")) {\n",
              "                    Plotly.newPlot(\n",
              "                        '213e1054-b011-48c1-b7f4-2f061f74a733',\n",
              "                        [{\"colorbar\": {\"title\": {\"text\": \"\\u041a\\u043b\\u0430\\u0441\\u0442\\u0435\\u0440\\u044b\"}}, \"colorscale\": [[0, \"#9ee771\"], [1, \"#e98155\"]], \"locationmode\": \"country names\", \"locations\": [\"Norway\", \"Denmark\", \"Iceland\", \"Switzerland\", \"Finland\", \"Netherlands\", \"Canada\", \"New Zealand\", \"Sweden\", \"Australia\", \"Israel\", \"Costa Rica\", \"Austria\", \"United States\", \"Ireland\", \"Germany\", \"Belgium\", \"Luxembourg\", \"United Kingdom\", \"Chile\", \"United Arab Emirates\", \"Brazil\", \"Czech Republic\", \"Argentina\", \"Mexico\", \"Singapore\", \"Malta\", \"Uruguay\", \"Guatemala\", \"Panama\", \"France\", \"Thailand\", \"Taiwan Province of China\", \"Spain\", \"Qatar\", \"Colombia\", \"Saudi Arabia\", \"Trinidad and Tobago\", \"Kuwait\", \"Slovakia\", \"Bahrain\", \"Malaysia\", \"Nicaragua\", \"Ecuador\", \"El Salvador\", \"Poland\", \"Uzbekistan\", \"Italy\", \"Russia\", \"Belize\", \"Japan\", \"Lithuania\", \"Algeria\", \"Latvia\", \"South Korea\", \"Moldova\", \"Romania\", \"Bolivia\", \"Turkmenistan\", \"Kazakhstan\", \"North Cyprus\", \"Slovenia\", \"Peru\", \"Mauritius\", \"Cyprus\", \"Estonia\", \"Belarus\", \"Libya\", \"Turkey\", \"Paraguay\", \"Hong Kong S.A.R., China\", \"Philippines\", \"Serbia\", \"Jordan\", \"Hungary\", \"Jamaica\", \"Croatia\", \"Kosovo\", \"China\", \"Pakistan\", \"Indonesia\", \"Venezuela\", \"Montenegro\", \"Morocco\", \"Azerbaijan\", \"Dominican Republic\", \"Greece\", \"Lebanon\", \"Portugal\", \"Bosnia and Herzegovina\", \"Honduras\", \"Macedonia\", \"Somalia\", \"Vietnam\", \"Nigeria\", \"Tajikistan\", \"Bhutan\", \"Kyrgyzstan\", \"Nepal\", \"Mongolia\", \"South Africa\", \"Tunisia\", \"Palestinian Territories\", \"Egypt\", \"Bulgaria\", \"Sierra Leone\", \"Cameroon\", \"Iran\", \"Albania\", \"Bangladesh\", \"Namibia\", \"Kenya\", \"Mozambique\", \"Myanmar\", \"Senegal\", \"Zambia\", \"Iraq\", \"Gabon\", \"Ethiopia\", \"Sri Lanka\", \"Armenia\", \"India\", \"Mauritania\", \"Congo (Brazzaville)\", \"Georgia\", \"Congo (Kinshasa)\", \"Mali\", \"Ivory Coast\", \"Cambodia\", \"Sudan\", \"Ghana\", \"Ukraine\", \"Uganda\", \"Burkina Faso\", \"Niger\", \"Malawi\", \"Chad\", \"Zimbabwe\", \"Lesotho\", \"Angola\", \"Afghanistan\", \"Botswana\", \"Benin\", \"Madagascar\", \"Haiti\", \"Yemen\", \"South Sudan\", \"Liberia\", \"Guinea\", \"Togo\", \"Rwanda\", \"Syria\", \"Tanzania\", \"Burundi\", \"Central African Republic\"], \"text\": [\"Norway\", \"Denmark\", \"Iceland\", \"Switzerland\", \"Finland\", \"Netherlands\", \"Canada\", \"New Zealand\", \"Sweden\", \"Australia\", \"Israel\", \"Costa Rica\", \"Austria\", \"United States\", \"Ireland\", \"Germany\", \"Belgium\", \"Luxembourg\", \"United Kingdom\", \"Chile\", \"United Arab Emirates\", \"Brazil\", \"Czech Republic\", \"Argentina\", \"Mexico\", \"Singapore\", \"Malta\", \"Uruguay\", \"Guatemala\", \"Panama\", \"France\", \"Thailand\", \"Taiwan Province of China\", \"Spain\", \"Qatar\", \"Colombia\", \"Saudi Arabia\", \"Trinidad and Tobago\", \"Kuwait\", \"Slovakia\", \"Bahrain\", \"Malaysia\", \"Nicaragua\", \"Ecuador\", \"El Salvador\", \"Poland\", \"Uzbekistan\", \"Italy\", \"Russia\", \"Belize\", \"Japan\", \"Lithuania\", \"Algeria\", \"Latvia\", \"South Korea\", \"Moldova\", \"Romania\", \"Bolivia\", \"Turkmenistan\", \"Kazakhstan\", \"North Cyprus\", \"Slovenia\", \"Peru\", \"Mauritius\", \"Cyprus\", \"Estonia\", \"Belarus\", \"Libya\", \"Turkey\", \"Paraguay\", \"Hong Kong S.A.R., China\", \"Philippines\", \"Serbia\", \"Jordan\", \"Hungary\", \"Jamaica\", \"Croatia\", \"Kosovo\", \"China\", \"Pakistan\", \"Indonesia\", \"Venezuela\", \"Montenegro\", \"Morocco\", \"Azerbaijan\", \"Dominican Republic\", \"Greece\", \"Lebanon\", \"Portugal\", \"Bosnia and Herzegovina\", \"Honduras\", \"Macedonia\", \"Somalia\", \"Vietnam\", \"Nigeria\", \"Tajikistan\", \"Bhutan\", \"Kyrgyzstan\", \"Nepal\", \"Mongolia\", \"South Africa\", \"Tunisia\", \"Palestinian Territories\", \"Egypt\", \"Bulgaria\", \"Sierra Leone\", \"Cameroon\", \"Iran\", \"Albania\", \"Bangladesh\", \"Namibia\", \"Kenya\", \"Mozambique\", \"Myanmar\", \"Senegal\", \"Zambia\", \"Iraq\", \"Gabon\", \"Ethiopia\", \"Sri Lanka\", \"Armenia\", \"India\", \"Mauritania\", \"Congo (Brazzaville)\", \"Georgia\", \"Congo (Kinshasa)\", \"Mali\", \"Ivory Coast\", \"Cambodia\", \"Sudan\", \"Ghana\", \"Ukraine\", \"Uganda\", \"Burkina Faso\", \"Niger\", \"Malawi\", \"Chad\", \"Zimbabwe\", \"Lesotho\", \"Angola\", \"Afghanistan\", \"Botswana\", \"Benin\", \"Madagascar\", \"Haiti\", \"Yemen\", \"South Sudan\", \"Liberia\", \"Guinea\", \"Togo\", \"Rwanda\", \"Syria\", \"Tanzania\", \"Burundi\", \"Central African Republic\"], \"type\": \"choropleth\", \"z\": [0, 0, 0, 0, 0, 0, 0, 0, 0, 0, 0, 0, 0, 0, 0, 0, 0, 0, 0, 0, 0, 0, 0, 0, 0, 0, 0, 0, 0, 0, 0, 0, 0, 0, 0, 0, 0, 0, 0, 0, 0, 0, 0, 0, 0, 0, 0, 0, 0, 0, 0, 0, 0, 0, 0, 0, 0, 0, 0, 0, 0, 0, 0, 1, 1, 1, 1, 1, 1, 1, 1, 1, 1, 1, 1, 1, 1, 1, 1, 1, 1, 1, 1, 1, 1, 1, 1, 1, 1, 1, 1, 1, 1, 1, 1, 1, 1, 1, 1, 1, 1, 1, 1, 1, 1, 1, 1, 1, 1, 1, 1, 1, 1, 1, 1, 1, 1, 1, 1, 1, 1, 1, 1, 1, 1, 1, 1, 1, 1, 1, 1, 1, 1, 1, 1, 1, 1, 1, 1, 1, 1, 1, 1, 1, 1, 1, 1, 1, 1, 1, 1, 1, 1, 1, 1]}],\n",
              "                        {\"geo\": {\"projection\": {\"type\": \"kavrayskiy7\"}, \"showframe\": false}, \"template\": {\"data\": {\"bar\": [{\"error_x\": {\"color\": \"#2a3f5f\"}, \"error_y\": {\"color\": \"#2a3f5f\"}, \"marker\": {\"line\": {\"color\": \"#E5ECF6\", \"width\": 0.5}}, \"type\": \"bar\"}], \"barpolar\": [{\"marker\": {\"line\": {\"color\": \"#E5ECF6\", \"width\": 0.5}}, \"type\": \"barpolar\"}], \"carpet\": [{\"aaxis\": {\"endlinecolor\": \"#2a3f5f\", \"gridcolor\": \"white\", \"linecolor\": \"white\", \"minorgridcolor\": \"white\", \"startlinecolor\": \"#2a3f5f\"}, \"baxis\": {\"endlinecolor\": \"#2a3f5f\", \"gridcolor\": \"white\", \"linecolor\": \"white\", \"minorgridcolor\": \"white\", \"startlinecolor\": \"#2a3f5f\"}, \"type\": \"carpet\"}], \"choropleth\": [{\"colorbar\": {\"outlinewidth\": 0, \"ticks\": \"\"}, \"type\": \"choropleth\"}], \"contour\": [{\"colorbar\": {\"outlinewidth\": 0, \"ticks\": \"\"}, \"colorscale\": [[0.0, \"#0d0887\"], [0.1111111111111111, \"#46039f\"], [0.2222222222222222, \"#7201a8\"], [0.3333333333333333, \"#9c179e\"], [0.4444444444444444, \"#bd3786\"], [0.5555555555555556, \"#d8576b\"], [0.6666666666666666, \"#ed7953\"], [0.7777777777777778, \"#fb9f3a\"], [0.8888888888888888, \"#fdca26\"], [1.0, \"#f0f921\"]], \"type\": \"contour\"}], \"contourcarpet\": [{\"colorbar\": {\"outlinewidth\": 0, \"ticks\": \"\"}, \"type\": \"contourcarpet\"}], \"heatmap\": [{\"colorbar\": {\"outlinewidth\": 0, \"ticks\": \"\"}, \"colorscale\": [[0.0, \"#0d0887\"], [0.1111111111111111, \"#46039f\"], [0.2222222222222222, \"#7201a8\"], [0.3333333333333333, \"#9c179e\"], [0.4444444444444444, \"#bd3786\"], [0.5555555555555556, \"#d8576b\"], [0.6666666666666666, \"#ed7953\"], [0.7777777777777778, \"#fb9f3a\"], [0.8888888888888888, \"#fdca26\"], [1.0, \"#f0f921\"]], \"type\": \"heatmap\"}], \"heatmapgl\": [{\"colorbar\": {\"outlinewidth\": 0, \"ticks\": \"\"}, \"colorscale\": [[0.0, \"#0d0887\"], [0.1111111111111111, \"#46039f\"], [0.2222222222222222, \"#7201a8\"], [0.3333333333333333, \"#9c179e\"], [0.4444444444444444, \"#bd3786\"], [0.5555555555555556, \"#d8576b\"], [0.6666666666666666, \"#ed7953\"], [0.7777777777777778, \"#fb9f3a\"], [0.8888888888888888, \"#fdca26\"], [1.0, \"#f0f921\"]], \"type\": \"heatmapgl\"}], \"histogram\": [{\"marker\": {\"colorbar\": {\"outlinewidth\": 0, \"ticks\": \"\"}}, \"type\": \"histogram\"}], \"histogram2d\": [{\"colorbar\": {\"outlinewidth\": 0, \"ticks\": \"\"}, \"colorscale\": [[0.0, \"#0d0887\"], [0.1111111111111111, \"#46039f\"], [0.2222222222222222, \"#7201a8\"], [0.3333333333333333, \"#9c179e\"], [0.4444444444444444, \"#bd3786\"], [0.5555555555555556, \"#d8576b\"], [0.6666666666666666, \"#ed7953\"], [0.7777777777777778, \"#fb9f3a\"], [0.8888888888888888, \"#fdca26\"], [1.0, \"#f0f921\"]], \"type\": \"histogram2d\"}], \"histogram2dcontour\": [{\"colorbar\": {\"outlinewidth\": 0, \"ticks\": \"\"}, \"colorscale\": [[0.0, \"#0d0887\"], [0.1111111111111111, \"#46039f\"], [0.2222222222222222, \"#7201a8\"], [0.3333333333333333, \"#9c179e\"], [0.4444444444444444, \"#bd3786\"], [0.5555555555555556, \"#d8576b\"], [0.6666666666666666, \"#ed7953\"], [0.7777777777777778, \"#fb9f3a\"], [0.8888888888888888, \"#fdca26\"], [1.0, \"#f0f921\"]], \"type\": \"histogram2dcontour\"}], \"mesh3d\": [{\"colorbar\": {\"outlinewidth\": 0, \"ticks\": \"\"}, \"type\": \"mesh3d\"}], \"parcoords\": [{\"line\": {\"colorbar\": {\"outlinewidth\": 0, \"ticks\": \"\"}}, \"type\": \"parcoords\"}], \"pie\": [{\"automargin\": true, \"type\": \"pie\"}], \"scatter\": [{\"marker\": {\"colorbar\": {\"outlinewidth\": 0, \"ticks\": \"\"}}, \"type\": \"scatter\"}], \"scatter3d\": [{\"line\": {\"colorbar\": {\"outlinewidth\": 0, \"ticks\": \"\"}}, \"marker\": {\"colorbar\": {\"outlinewidth\": 0, \"ticks\": \"\"}}, \"type\": \"scatter3d\"}], \"scattercarpet\": [{\"marker\": {\"colorbar\": {\"outlinewidth\": 0, \"ticks\": \"\"}}, \"type\": \"scattercarpet\"}], \"scattergeo\": [{\"marker\": {\"colorbar\": {\"outlinewidth\": 0, \"ticks\": \"\"}}, \"type\": \"scattergeo\"}], \"scattergl\": [{\"marker\": {\"colorbar\": {\"outlinewidth\": 0, \"ticks\": \"\"}}, \"type\": \"scattergl\"}], \"scattermapbox\": [{\"marker\": {\"colorbar\": {\"outlinewidth\": 0, \"ticks\": \"\"}}, \"type\": \"scattermapbox\"}], \"scatterpolar\": [{\"marker\": {\"colorbar\": {\"outlinewidth\": 0, \"ticks\": \"\"}}, \"type\": \"scatterpolar\"}], \"scatterpolargl\": [{\"marker\": {\"colorbar\": {\"outlinewidth\": 0, \"ticks\": \"\"}}, \"type\": \"scatterpolargl\"}], \"scatterternary\": [{\"marker\": {\"colorbar\": {\"outlinewidth\": 0, \"ticks\": \"\"}}, \"type\": \"scatterternary\"}], \"surface\": [{\"colorbar\": {\"outlinewidth\": 0, \"ticks\": \"\"}, \"colorscale\": [[0.0, \"#0d0887\"], [0.1111111111111111, \"#46039f\"], [0.2222222222222222, \"#7201a8\"], [0.3333333333333333, \"#9c179e\"], [0.4444444444444444, \"#bd3786\"], [0.5555555555555556, \"#d8576b\"], [0.6666666666666666, \"#ed7953\"], [0.7777777777777778, \"#fb9f3a\"], [0.8888888888888888, \"#fdca26\"], [1.0, \"#f0f921\"]], \"type\": \"surface\"}], \"table\": [{\"cells\": {\"fill\": {\"color\": \"#EBF0F8\"}, \"line\": {\"color\": \"white\"}}, \"header\": {\"fill\": {\"color\": \"#C8D4E3\"}, \"line\": {\"color\": \"white\"}}, \"type\": \"table\"}]}, \"layout\": {\"annotationdefaults\": {\"arrowcolor\": \"#2a3f5f\", \"arrowhead\": 0, \"arrowwidth\": 1}, \"coloraxis\": {\"colorbar\": {\"outlinewidth\": 0, \"ticks\": \"\"}}, \"colorscale\": {\"diverging\": [[0, \"#8e0152\"], [0.1, \"#c51b7d\"], [0.2, \"#de77ae\"], [0.3, \"#f1b6da\"], [0.4, \"#fde0ef\"], [0.5, \"#f7f7f7\"], [0.6, \"#e6f5d0\"], [0.7, \"#b8e186\"], [0.8, \"#7fbc41\"], [0.9, \"#4d9221\"], [1, \"#276419\"]], \"sequential\": [[0.0, \"#0d0887\"], [0.1111111111111111, \"#46039f\"], [0.2222222222222222, \"#7201a8\"], [0.3333333333333333, \"#9c179e\"], [0.4444444444444444, \"#bd3786\"], [0.5555555555555556, \"#d8576b\"], [0.6666666666666666, \"#ed7953\"], [0.7777777777777778, \"#fb9f3a\"], [0.8888888888888888, \"#fdca26\"], [1.0, \"#f0f921\"]], \"sequentialminus\": [[0.0, \"#0d0887\"], [0.1111111111111111, \"#46039f\"], [0.2222222222222222, \"#7201a8\"], [0.3333333333333333, \"#9c179e\"], [0.4444444444444444, \"#bd3786\"], [0.5555555555555556, \"#d8576b\"], [0.6666666666666666, \"#ed7953\"], [0.7777777777777778, \"#fb9f3a\"], [0.8888888888888888, \"#fdca26\"], [1.0, \"#f0f921\"]]}, \"colorway\": [\"#636efa\", \"#EF553B\", \"#00cc96\", \"#ab63fa\", \"#FFA15A\", \"#19d3f3\", \"#FF6692\", \"#B6E880\", \"#FF97FF\", \"#FECB52\"], \"font\": {\"color\": \"#2a3f5f\"}, \"geo\": {\"bgcolor\": \"white\", \"lakecolor\": \"white\", \"landcolor\": \"#E5ECF6\", \"showlakes\": true, \"showland\": true, \"subunitcolor\": \"white\"}, \"hoverlabel\": {\"align\": \"left\"}, \"hovermode\": \"closest\", \"mapbox\": {\"style\": \"light\"}, \"paper_bgcolor\": \"white\", \"plot_bgcolor\": \"#E5ECF6\", \"polar\": {\"angularaxis\": {\"gridcolor\": \"white\", \"linecolor\": \"white\", \"ticks\": \"\"}, \"bgcolor\": \"#E5ECF6\", \"radialaxis\": {\"gridcolor\": \"white\", \"linecolor\": \"white\", \"ticks\": \"\"}}, \"scene\": {\"xaxis\": {\"backgroundcolor\": \"#E5ECF6\", \"gridcolor\": \"white\", \"gridwidth\": 2, \"linecolor\": \"white\", \"showbackground\": true, \"ticks\": \"\", \"zerolinecolor\": \"white\"}, \"yaxis\": {\"backgroundcolor\": \"#E5ECF6\", \"gridcolor\": \"white\", \"gridwidth\": 2, \"linecolor\": \"white\", \"showbackground\": true, \"ticks\": \"\", \"zerolinecolor\": \"white\"}, \"zaxis\": {\"backgroundcolor\": \"#E5ECF6\", \"gridcolor\": \"white\", \"gridwidth\": 2, \"linecolor\": \"white\", \"showbackground\": true, \"ticks\": \"\", \"zerolinecolor\": \"white\"}}, \"shapedefaults\": {\"line\": {\"color\": \"#2a3f5f\"}}, \"ternary\": {\"aaxis\": {\"gridcolor\": \"white\", \"linecolor\": \"white\", \"ticks\": \"\"}, \"baxis\": {\"gridcolor\": \"white\", \"linecolor\": \"white\", \"ticks\": \"\"}, \"bgcolor\": \"#E5ECF6\", \"caxis\": {\"gridcolor\": \"white\", \"linecolor\": \"white\", \"ticks\": \"\"}}, \"title\": {\"x\": 0.05}, \"xaxis\": {\"automargin\": true, \"gridcolor\": \"white\", \"linecolor\": \"white\", \"ticks\": \"\", \"title\": {\"standoff\": 15}, \"zerolinecolor\": \"white\", \"zerolinewidth\": 2}, \"yaxis\": {\"automargin\": true, \"gridcolor\": \"white\", \"linecolor\": \"white\", \"ticks\": \"\", \"title\": {\"standoff\": 15}, \"zerolinecolor\": \"white\", \"zerolinewidth\": 2}}}, \"title\": {\"text\": \"\\u0413\\u0440\\u0443\\u043f\\u0438\\u0440\\u043e\\u0432\\u043a\\u0430 \\u0441\\u0442\\u0440\\u0430\\u043d \\u043f\\u043e \\u043a\\u043b\\u0430\\u0441\\u0442\\u0435\\u0440\\u0430\\u043c\"}},\n",
              "                        {\"responsive\": true}\n",
              "                    ).then(function(){\n",
              "                            \n",
              "var gd = document.getElementById('213e1054-b011-48c1-b7f4-2f061f74a733');\n",
              "var x = new MutationObserver(function (mutations, observer) {{\n",
              "        var display = window.getComputedStyle(gd).display;\n",
              "        if (!display || display === 'none') {{\n",
              "            console.log([gd, 'removed!']);\n",
              "            Plotly.purge(gd);\n",
              "            observer.disconnect();\n",
              "        }}\n",
              "}});\n",
              "\n",
              "// Listen for the removal of the full notebook cells\n",
              "var notebookContainer = gd.closest('#notebook-container');\n",
              "if (notebookContainer) {{\n",
              "    x.observe(notebookContainer, {childList: true});\n",
              "}}\n",
              "\n",
              "// Listen for the clearing of the current output cell\n",
              "var outputEl = gd.closest('.output');\n",
              "if (outputEl) {{\n",
              "    x.observe(outputEl, {childList: true});\n",
              "}}\n",
              "\n",
              "                        })\n",
              "                };\n",
              "                \n",
              "            </script>\n",
              "        </div>\n",
              "</body>\n",
              "</html>"
            ]
          },
          "metadata": {
            "tags": []
          }
        }
      ]
    }
  ]
}
